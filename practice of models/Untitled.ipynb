{
 "cells": [
  {
   "cell_type": "raw",
   "metadata": {},
   "source": [
    "y=wx+b\n",
    "w is weight\n",
    "b is bias\n",
    "x is input x height btyien\n",
    "loss calculate karna hoga\n",
    "x height itni hae uska weight  itna hoga\n",
    "preduct -actual uska square value change in positive phir uska square phir uska \n",
    "mean lety haen yeh vlaue root means sqyare error\n",
    "stochastic gradient descent means random values\n",
    "multi classification =sparse\n"
   ]
  },
  {
   "cell_type": "code",
   "execution_count": null,
   "metadata": {},
   "outputs": [],
   "source": [
    "gradient descent  jo hae wo weight ko"
   ]
  },
  {
   "cell_type": "code",
   "execution_count": null,
   "metadata": {},
   "outputs": [],
   "source": []
  },
  {
   "cell_type": "code",
   "execution_count": null,
   "metadata": {},
   "outputs": [],
   "source": []
  },
  {
   "cell_type": "code",
   "execution_count": null,
   "metadata": {},
   "outputs": [],
   "source": []
  },
  {
   "cell_type": "code",
   "execution_count": null,
   "metadata": {},
   "outputs": [],
   "source": []
  },
  {
   "cell_type": "raw",
   "metadata": {
    "slideshow": {
     "slide_type": "fragment"
    }
   },
   "source": [
    "kum ya ziada\n",
    "two claasifaction \n",
    "aik class fruit\n",
    "aik class vegetable \n",
    "binary crossentropy\n",
    "in regression problem have no classes\n",
    "Value calculation ya prediction is regression\n",
    "regression mae mean squared error\n",
    "many class classifiaction we used categorical crossentropy\n"
   ]
  }
 ],
 "metadata": {
  "kernelspec": {
   "display_name": "Python 3",
   "language": "python",
   "name": "python3"
  },
  "language_info": {
   "codemirror_mode": {
    "name": "ipython",
    "version": 3
   },
   "file_extension": ".py",
   "mimetype": "text/x-python",
   "name": "python",
   "nbconvert_exporter": "python",
   "pygments_lexer": "ipython3",
   "version": "3.7.4"
  }
 },
 "nbformat": 4,
 "nbformat_minor": 2
}
