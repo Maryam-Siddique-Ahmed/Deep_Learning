{
 "cells": [
  {
   "cell_type": "raw",
   "metadata": {},
   "source": [
    "import tensorflow as tf\n",
    "from PIL import Image , ImageOps\n",
    "import numpy as np\n",
    "from tensorflow.keras.datasets import mnist\n",
    "(train_data,train_lab),(test_data,test_lab)=mnist.load_data()\n",
    "\n",
    "test_data=test_data.reshape((10000,28*28))\n",
    "train_data=train_data.reshape((60000,28*28))\n",
    "test_data=test_data.astype('float32')/255\n",
    "train_data=train_data.astype('float32')/255\n",
    "print(test_data[0])\n",
    "from tensorflow.keras.utils import to_categorical\n",
    "train_lab=to_categorical(train_lab)\n",
    "print(train_lab[0])\n",
    "test_lab=to_categorical(test_lab)\n",
    "\n",
    "from tensorflow.keras import models\n",
    "from tensorflow.keras import layers\n",
    "model=models.Sequential()\n",
    "model.add(layers.Dense(100,activation='relu',input_shape=(28*28,)))\n",
    "model.add(layers.Dense(100,activation='relu'))\n",
    "model.add(layers.Dense(10,activation='softmax'))\n",
    "model.compile(optimizer='adam',loss='categorical_crossentropy',metrics=['accuracy'])\n",
    "model.fit(train_data,train_lab,epochs=6,batch_size=128)\n",
    "model.evaluate(test_data,test_lab)"
   ]
  },
  {
   "cell_type": "raw",
   "metadata": {},
   "source": [
    "import numpy as np\n",
    "file_name=\"Capture.JPG\" \n",
    "im=Image.open(file_name)\n",
    "np_array=np.array(im)\n",
    "np_array=np_array.astype('float32')/255\n",
    "\n",
    "i=np_array.resize((1,28*28))\n",
    "print(i) \n",
    "print(i.shape)\n",
    "pre=model.predict(i)\n",
    "y=pre.argmax()\n",
    "arr=[0,1,2,3,4,5,6,7,8,9] \n",
    "print(\"network prediction: \",arr[y])\n",
    "import matplotlib.pyplot as plt\n",
    "digit=np_array\n",
    "plt.imshow(digit,cmap=plt.cm.binary)\n",
    "print(plt.show())"
   ]
  },
  {
   "cell_type": "code",
   "execution_count": 18,
   "metadata": {},
   "outputs": [],
   "source": [
    "import matplotlib.pyplot as plt\n",
    "import matplotlib.image as mpimg\n"
   ]
  },
  {
   "cell_type": "code",
   "execution_count": 19,
   "metadata": {},
   "outputs": [],
   "source": [
    "img = mpimg.imread(\"20200219_222254.jpg\")\n",
    "\n"
   ]
  },
  {
   "cell_type": "code",
   "execution_count": 20,
   "metadata": {},
   "outputs": [
    {
     "data": {
      "text/plain": [
       "array([[[205., 205., 205.],\n",
       "        [202., 202., 202.],\n",
       "        [197., 197., 197.],\n",
       "        ...,\n",
       "        [136., 136., 136.],\n",
       "        [134., 134., 134.],\n",
       "        [138., 138., 138.]],\n",
       "\n",
       "       [[200., 200., 200.],\n",
       "        [201., 201., 201.],\n",
       "        [198., 198., 198.],\n",
       "        ...,\n",
       "        [145., 145., 145.],\n",
       "        [143., 143., 143.],\n",
       "        [143., 143., 143.]],\n",
       "\n",
       "       [[201., 201., 201.],\n",
       "        [203., 203., 203.],\n",
       "        [199., 199., 199.],\n",
       "        ...,\n",
       "        [148., 148., 148.],\n",
       "        [145., 145., 145.],\n",
       "        [143., 143., 143.]],\n",
       "\n",
       "       ...,\n",
       "\n",
       "       [[185., 185., 185.],\n",
       "        [187., 187., 187.],\n",
       "        [186., 186., 186.],\n",
       "        ...,\n",
       "        [126., 126., 126.],\n",
       "        [118., 118., 118.],\n",
       "        [124., 124., 124.]],\n",
       "\n",
       "       [[191., 191., 191.],\n",
       "        [190., 190., 190.],\n",
       "        [189., 189., 189.],\n",
       "        ...,\n",
       "        [113., 113., 113.],\n",
       "        [117., 117., 117.],\n",
       "        [133., 133., 133.]],\n",
       "\n",
       "       [[193., 193., 193.],\n",
       "        [191., 191., 191.],\n",
       "        [190., 190., 190.],\n",
       "        ...,\n",
       "        [109., 109., 109.],\n",
       "        [119., 119., 119.],\n",
       "        [139., 139., 139.]]], dtype=float32)"
      ]
     },
     "execution_count": 20,
     "metadata": {},
     "output_type": "execute_result"
    }
   ],
   "source": [
    "img.shape\n",
    "img.dtype\n",
    "img.astype(\"float32\")"
   ]
  },
  {
   "cell_type": "code",
   "execution_count": 21,
   "metadata": {},
   "outputs": [
    {
     "ename": "ValueError",
     "evalue": "cannot resize this array: it does not own its data",
     "output_type": "error",
     "traceback": [
      "\u001b[1;31m---------------------------------------------------------------------------\u001b[0m",
      "\u001b[1;31mValueError\u001b[0m                                Traceback (most recent call last)",
      "\u001b[1;32m<ipython-input-21-ca2fb1ec6b23>\u001b[0m in \u001b[0;36m<module>\u001b[1;34m\u001b[0m\n\u001b[1;32m----> 1\u001b[1;33m \u001b[0mimg\u001b[0m\u001b[1;33m.\u001b[0m\u001b[0mresize\u001b[0m\u001b[1;33m(\u001b[0m\u001b[1;33m(\u001b[0m\u001b[1;36m28\u001b[0m\u001b[1;33m*\u001b[0m\u001b[1;36m28\u001b[0m\u001b[1;33m,\u001b[0m\u001b[1;33m)\u001b[0m\u001b[1;33m)\u001b[0m\u001b[1;33m\u001b[0m\u001b[1;33m\u001b[0m\u001b[0m\n\u001b[0m",
      "\u001b[1;31mValueError\u001b[0m: cannot resize this array: it does not own its data"
     ]
    }
   ],
   "source": [
    "img.resize((28*28,))"
   ]
  },
  {
   "cell_type": "code",
   "execution_count": null,
   "metadata": {},
   "outputs": [],
   "source": []
  },
  {
   "cell_type": "code",
   "execution_count": null,
   "metadata": {},
   "outputs": [],
   "source": []
  }
 ],
 "metadata": {
  "kernelspec": {
   "display_name": "Python 3",
   "language": "python",
   "name": "python3"
  },
  "language_info": {
   "codemirror_mode": {
    "name": "ipython",
    "version": 3
   },
   "file_extension": ".py",
   "mimetype": "text/x-python",
   "name": "python",
   "nbconvert_exporter": "python",
   "pygments_lexer": "ipython3",
   "version": "3.7.4"
  }
 },
 "nbformat": 4,
 "nbformat_minor": 2
}
