{
 "cells": [
  {
   "cell_type": "code",
   "execution_count": 99,
   "metadata": {},
   "outputs": [],
   "source": [
    "import tensorflow as tf\n",
    "import numpy as np\n",
    "import pandas as pd\n",
    "import matplotlib.pyplot as plt"
   ]
  },
  {
   "cell_type": "code",
   "execution_count": 100,
   "metadata": {},
   "outputs": [],
   "source": [
    "from tensorflow.keras.datasets import mnist"
   ]
  },
  {
   "cell_type": "code",
   "execution_count": 101,
   "metadata": {},
   "outputs": [],
   "source": [
    "(train_images,train_labels),(test_images,test_labels)=mnist.load_data()\n"
   ]
  },
  {
   "cell_type": "code",
   "execution_count": 102,
   "metadata": {},
   "outputs": [
    {
     "data": {
      "text/plain": [
       "(60000, 28, 28)"
      ]
     },
     "execution_count": 102,
     "metadata": {},
     "output_type": "execute_result"
    }
   ],
   "source": [
    "train_images.shape"
   ]
  },
  {
   "cell_type": "code",
   "execution_count": 103,
   "metadata": {},
   "outputs": [
    {
     "data": {
      "text/plain": [
       "9"
      ]
     },
     "execution_count": 103,
     "metadata": {},
     "output_type": "execute_result"
    }
   ],
   "source": [
    "train_labels[4]"
   ]
  },
  {
   "cell_type": "code",
   "execution_count": 104,
   "metadata": {},
   "outputs": [],
   "source": [
    "from tensorflow.keras import models\n",
    "from tensorflow.keras import layers\n",
    "network=tf.keras.models.Sequential()\n",
    "\n",
    "network.add(layers.Dense(512,activation=\"relu\",input_shape=(28*28,)))\n",
    "\n",
    "network.add(layers.Dense(10,activation=\"softmax\"))"
   ]
  },
  {
   "cell_type": "code",
   "execution_count": 105,
   "metadata": {},
   "outputs": [],
   "source": [
    "network.compile(optimizer=\"rmsprop\",loss=\"categorical_crossentropy\",metrics=[\"accuracy\"])"
   ]
  },
  {
   "cell_type": "code",
   "execution_count": 106,
   "metadata": {},
   "outputs": [],
   "source": [
    "train_images=train_images.reshape(60000,28*28)\n",
    "train_images=train_images.astype(\"float32\")/255\n",
    "\n",
    "test_images=test_images.reshape(10000,28*28)\n",
    "test_images=test_images.astype(\"float32\")/255\n",
    "\n"
   ]
  },
  {
   "cell_type": "code",
   "execution_count": 107,
   "metadata": {},
   "outputs": [],
   "source": [
    "from tensorflow.keras.utils import to_categorical\n",
    "train_labels= to_categorical(train_labels)\n",
    "test_labels=to_categorical(test_labels)"
   ]
  },
  {
   "cell_type": "code",
   "execution_count": 108,
   "metadata": {},
   "outputs": [
    {
     "name": "stdout",
     "output_type": "stream",
     "text": [
      "Train on 60000 samples\n",
      "Epoch 1/5\n",
      "60000/60000 [==============================] - 23s 388us/sample - loss: 0.2580 - accuracy: 0.9258\n",
      "Epoch 2/5\n",
      "60000/60000 [==============================] - 16s 273us/sample - loss: 0.1029 - accuracy: 0.9693\n",
      "Epoch 3/5\n",
      "60000/60000 [==============================] - 19s 322us/sample - loss: 0.0686 - accuracy: 0.9794\n",
      "Epoch 4/5\n",
      "60000/60000 [==============================] - 17s 279us/sample - loss: 0.0496 - accuracy: 0.9852\n",
      "Epoch 5/5\n",
      "60000/60000 [==============================] - 18s 300us/sample - loss: 0.0377 - accuracy: 0.9886\n"
     ]
    },
    {
     "data": {
      "text/plain": [
       "<tensorflow.python.keras.callbacks.History at 0x5f8ded3f48>"
      ]
     },
     "execution_count": 108,
     "metadata": {},
     "output_type": "execute_result"
    }
   ],
   "source": [
    "network.fit(train_images,train_labels,epochs=5,batch_size=128)"
   ]
  },
  {
   "cell_type": "code",
   "execution_count": 109,
   "metadata": {},
   "outputs": [
    {
     "name": "stdout",
     "output_type": "stream",
     "text": [
      "10000/1 - 2s - loss: 0.0327 - accuracy: 0.9811\n"
     ]
    }
   ],
   "source": [
    "test_loss,test_accuracy=network.evaluate(test_images,test_labels,verbose=2)\n"
   ]
  },
  {
   "cell_type": "code",
   "execution_count": 110,
   "metadata": {},
   "outputs": [
    {
     "name": "stdout",
     "output_type": "stream",
     "text": [
      "test_acc= 0.9811\n"
     ]
    }
   ],
   "source": [
    "print(\"test_acc=\",test_accuracy)"
   ]
  },
  {
   "cell_type": "code",
   "execution_count": 111,
   "metadata": {},
   "outputs": [
    {
     "data": {
      "text/plain": [
       "array([0.        , 0.        , 0.        , 0.        , 0.        ,\n",
       "       0.        , 0.        , 0.        , 0.        , 0.        ,\n",
       "       0.        , 0.        , 0.        , 0.        , 0.        ,\n",
       "       0.        , 0.        , 0.        , 0.        , 0.        ,\n",
       "       0.        , 0.        , 0.        , 0.        , 0.        ,\n",
       "       0.        , 0.        , 0.        , 0.        , 0.        ,\n",
       "       0.        , 0.        , 0.        , 0.        , 0.        ,\n",
       "       0.        , 0.        , 0.        , 0.        , 0.        ,\n",
       "       0.        , 0.        , 0.        , 0.        , 0.        ,\n",
       "       0.        , 0.        , 0.        , 0.        , 0.        ,\n",
       "       0.        , 0.        , 0.        , 0.        , 0.        ,\n",
       "       0.        , 0.        , 0.        , 0.        , 0.        ,\n",
       "       0.        , 0.        , 0.        , 0.        , 0.        ,\n",
       "       0.        , 0.        , 0.        , 0.        , 0.        ,\n",
       "       0.        , 0.        , 0.        , 0.        , 0.        ,\n",
       "       0.        , 0.        , 0.        , 0.        , 0.        ,\n",
       "       0.        , 0.        , 0.        , 0.        , 0.        ,\n",
       "       0.        , 0.        , 0.        , 0.        , 0.        ,\n",
       "       0.        , 0.        , 0.        , 0.        , 0.        ,\n",
       "       0.        , 0.        , 0.        , 0.        , 0.        ,\n",
       "       0.        , 0.        , 0.        , 0.        , 0.        ,\n",
       "       0.        , 0.        , 0.        , 0.        , 0.        ,\n",
       "       0.        , 0.        , 0.        , 0.        , 0.        ,\n",
       "       0.        , 0.        , 0.        , 0.        , 0.        ,\n",
       "       0.        , 0.        , 0.        , 0.        , 0.        ,\n",
       "       0.        , 0.        , 0.        , 0.        , 0.06666667,\n",
       "       0.18431373, 0.18431373, 0.18431373, 0.0627451 , 0.5058824 ,\n",
       "       0.33333334, 0.18431373, 0.        , 0.        , 0.        ,\n",
       "       0.        , 0.        , 0.        , 0.        , 0.        ,\n",
       "       0.        , 0.        , 0.        , 0.        , 0.        ,\n",
       "       0.        , 0.        , 0.        , 0.        , 0.        ,\n",
       "       0.29411766, 0.6       , 0.8509804 , 0.99215686, 0.99215686,\n",
       "       0.99215686, 0.84313726, 0.9647059 , 0.99215686, 0.99215686,\n",
       "       0.        , 0.        , 0.        , 0.        , 0.        ,\n",
       "       0.        , 0.        , 0.        , 0.        , 0.        ,\n",
       "       0.        , 0.        , 0.        , 0.        , 0.        ,\n",
       "       0.13725491, 0.5568628 , 0.95686275, 0.9882353 , 0.99215686,\n",
       "       0.99215686, 0.99215686, 0.99215686, 0.99215686, 0.99215686,\n",
       "       0.99215686, 0.99215686, 0.99215686, 0.        , 0.        ,\n",
       "       0.        , 0.        , 0.        , 0.        , 0.        ,\n",
       "       0.        , 0.        , 0.        , 0.        , 0.        ,\n",
       "       0.        , 0.        , 0.        , 0.24705882, 0.99215686,\n",
       "       0.99215686, 0.99215686, 0.99215686, 0.99215686, 0.99215686,\n",
       "       0.99215686, 0.8352941 , 0.6666667 , 0.6666667 , 0.6666667 ,\n",
       "       0.6666667 , 0.        , 0.        , 0.        , 0.        ,\n",
       "       0.        , 0.        , 0.        , 0.        , 0.        ,\n",
       "       0.        , 0.        , 0.07843138, 0.5176471 , 0.28235295,\n",
       "       0.        , 0.22352941, 0.93333334, 0.8901961 , 0.93333334,\n",
       "       0.65882355, 0.4862745 , 0.27058825, 0.07843138, 0.04313726,\n",
       "       0.        , 0.        , 0.        , 0.        , 0.        ,\n",
       "       0.        , 0.        , 0.        , 0.        , 0.        ,\n",
       "       0.        , 0.        , 0.        , 0.        , 0.04313726,\n",
       "       0.80784315, 0.99215686, 0.30588236, 0.        , 0.        ,\n",
       "       0.1254902 , 0.        , 0.11764706, 0.00784314, 0.        ,\n",
       "       0.        , 0.        , 0.        , 0.        , 0.        ,\n",
       "       0.        , 0.        , 0.        , 0.        , 0.        ,\n",
       "       0.        , 0.        , 0.        , 0.        , 0.        ,\n",
       "       0.        , 0.02352941, 0.69411767, 0.99215686, 0.5176471 ,\n",
       "       0.03921569, 0.        , 0.        , 0.        , 0.        ,\n",
       "       0.        , 0.        , 0.        , 0.        , 0.        ,\n",
       "       0.        , 0.        , 0.        , 0.        , 0.        ,\n",
       "       0.        , 0.        , 0.        , 0.        , 0.        ,\n",
       "       0.        , 0.        , 0.        , 0.04705882, 0.52156866,\n",
       "       0.99215686, 0.9137255 , 0.05882353, 0.        , 0.        ,\n",
       "       0.        , 0.        , 0.        , 0.        , 0.        ,\n",
       "       0.        , 0.        , 0.        , 0.        , 0.        ,\n",
       "       0.        , 0.        , 0.        , 0.        , 0.        ,\n",
       "       0.        , 0.        , 0.        , 0.        , 0.        ,\n",
       "       0.        , 0.36078432, 0.99215686, 0.8745098 , 0.10980392,\n",
       "       0.        , 0.        , 0.        , 0.        , 0.        ,\n",
       "       0.        , 0.        , 0.        , 0.        , 0.        ,\n",
       "       0.        , 0.        , 0.        , 0.        , 0.        ,\n",
       "       0.        , 0.        , 0.        , 0.        , 0.        ,\n",
       "       0.        , 0.        , 0.        , 0.        , 0.5882353 ,\n",
       "       0.99215686, 0.68235296, 0.        , 0.        , 0.        ,\n",
       "       0.        , 0.        , 0.        , 0.        , 0.        ,\n",
       "       0.        , 0.        , 0.        , 0.        , 0.        ,\n",
       "       0.        , 0.        , 0.        , 0.        , 0.        ,\n",
       "       0.        , 0.        , 0.        , 0.        , 0.        ,\n",
       "       0.        , 0.        , 0.91764706, 0.99215686, 0.9647059 ,\n",
       "       0.49803922, 0.19215687, 0.        , 0.        , 0.        ,\n",
       "       0.        , 0.        , 0.        , 0.        , 0.        ,\n",
       "       0.        , 0.        , 0.        , 0.        , 0.        ,\n",
       "       0.        , 0.        , 0.        , 0.        , 0.        ,\n",
       "       0.        , 0.        , 0.        , 0.        , 0.        ,\n",
       "       1.        , 0.99215686, 0.99215686, 0.99215686, 0.9843137 ,\n",
       "       0.5764706 , 0.35686275, 0.4745098 , 0.33333334, 0.16470589,\n",
       "       0.16470589, 0.33333334, 0.10980392, 0.        , 0.        ,\n",
       "       0.        , 0.        , 0.        , 0.        , 0.        ,\n",
       "       0.        , 0.        , 0.        , 0.        , 0.        ,\n",
       "       0.        , 0.        , 0.        , 0.54509807, 0.99215686,\n",
       "       0.99215686, 0.99215686, 0.99215686, 0.99215686, 0.99215686,\n",
       "       0.99215686, 0.99215686, 0.99215686, 0.99215686, 0.99215686,\n",
       "       0.9098039 , 0.65882355, 0.        , 0.        , 0.        ,\n",
       "       0.        , 0.        , 0.        , 0.        , 0.        ,\n",
       "       0.        , 0.        , 0.        , 0.        , 0.        ,\n",
       "       0.        , 0.01176471, 0.20784314, 0.85490197, 0.87058824,\n",
       "       0.9843137 , 0.99215686, 0.99215686, 0.99215686, 0.99215686,\n",
       "       0.99215686, 0.99215686, 0.99215686, 0.99215686, 0.9882353 ,\n",
       "       0.4862745 , 0.        , 0.        , 0.        , 0.        ,\n",
       "       0.        , 0.        , 0.        , 0.        , 0.        ,\n",
       "       0.        , 0.        , 0.        , 0.        , 0.        ,\n",
       "       0.        , 0.        , 0.        , 0.2627451 , 0.28235295,\n",
       "       0.78431374, 0.99215686, 0.99215686, 0.99215686, 0.99215686,\n",
       "       0.99215686, 0.99215686, 0.99215686, 0.6862745 , 0.        ,\n",
       "       0.        , 0.        , 0.        , 0.        , 0.        ,\n",
       "       0.        , 0.        , 0.        , 0.        , 0.        ,\n",
       "       0.        , 0.        , 0.        , 0.        , 0.        ,\n",
       "       0.        , 0.        , 0.        , 0.47058824, 0.99215686,\n",
       "       0.9764706 , 0.59607846, 0.2       , 0.6431373 , 0.99215686,\n",
       "       0.99215686, 0.6862745 , 0.        , 0.        , 0.        ,\n",
       "       0.        , 0.        , 0.        , 0.        , 0.        ,\n",
       "       0.        , 0.        , 0.        , 0.        , 0.        ,\n",
       "       0.        , 0.        , 0.        , 0.        , 0.        ,\n",
       "       0.        , 0.19607843, 0.99215686, 0.99215686, 0.99215686,\n",
       "       0.7372549 , 0.9882353 , 0.99215686, 0.99215686, 0.5803922 ,\n",
       "       0.        , 0.        , 0.        , 0.        , 0.        ,\n",
       "       0.        , 0.        , 0.        , 0.        , 0.        ,\n",
       "       0.        , 0.        , 0.        , 0.        , 0.        ,\n",
       "       0.        , 0.        , 0.        , 0.        , 0.03529412,\n",
       "       0.654902  , 0.99215686, 0.99215686, 0.99215686, 0.99215686,\n",
       "       0.98039216, 0.6862745 , 0.04313726, 0.        , 0.        ,\n",
       "       0.        , 0.        , 0.        , 0.        , 0.        ,\n",
       "       0.        , 0.        , 0.        , 0.        , 0.        ,\n",
       "       0.        , 0.        , 0.        , 0.        , 0.        ,\n",
       "       0.        , 0.        , 0.        , 0.09019608, 0.7058824 ,\n",
       "       0.90588236, 0.99215686, 0.8666667 , 0.5019608 , 0.        ,\n",
       "       0.        , 0.        , 0.        , 0.        , 0.        ,\n",
       "       0.        , 0.        , 0.        , 0.        , 0.        ,\n",
       "       0.        , 0.        , 0.        , 0.        , 0.        ,\n",
       "       0.        , 0.        , 0.        , 0.        , 0.        ,\n",
       "       0.        , 0.        , 0.        , 0.3647059 , 0.58431375,\n",
       "       0.08627451, 0.        , 0.        , 0.        , 0.        ,\n",
       "       0.        , 0.        , 0.        , 0.        , 0.        ,\n",
       "       0.        , 0.        , 0.        , 0.        , 0.        ,\n",
       "       0.        , 0.        , 0.        , 0.        , 0.        ,\n",
       "       0.        , 0.        , 0.        , 0.        , 0.        ,\n",
       "       0.        , 0.        , 0.        , 0.        , 0.        ,\n",
       "       0.        , 0.        , 0.        , 0.        , 0.        ,\n",
       "       0.        , 0.        , 0.        , 0.        , 0.        ,\n",
       "       0.        , 0.        , 0.        , 0.        , 0.        ,\n",
       "       0.        , 0.        , 0.        , 0.        , 0.        ,\n",
       "       0.        , 0.        , 0.        , 0.        , 0.        ,\n",
       "       0.        , 0.        , 0.        , 0.        , 0.        ,\n",
       "       0.        , 0.        , 0.        , 0.        , 0.        ,\n",
       "       0.        , 0.        , 0.        , 0.        , 0.        ,\n",
       "       0.        , 0.        , 0.        , 0.        , 0.        ,\n",
       "       0.        , 0.        , 0.        , 0.        , 0.        ,\n",
       "       0.        , 0.        , 0.        , 0.        , 0.        ,\n",
       "       0.        , 0.        , 0.        , 0.        , 0.        ,\n",
       "       0.        , 0.        , 0.        , 0.        , 0.        ,\n",
       "       0.        , 0.        , 0.        , 0.        , 0.        ,\n",
       "       0.        , 0.        , 0.        , 0.        , 0.        ,\n",
       "       0.        , 0.        , 0.        , 0.        , 0.        ,\n",
       "       0.        , 0.        , 0.        , 0.        , 0.        ,\n",
       "       0.        , 0.        , 0.        , 0.        , 0.        ,\n",
       "       0.        , 0.        , 0.        , 0.        ], dtype=float32)"
      ]
     },
     "execution_count": 111,
     "metadata": {},
     "output_type": "execute_result"
    }
   ],
   "source": [
    "test_images[8]\n"
   ]
  },
  {
   "cell_type": "code",
   "execution_count": 112,
   "metadata": {},
   "outputs": [],
   "source": [
    "(train_images,train_labels),(test_images,test_labels)=mnist.load_data()"
   ]
  },
  {
   "cell_type": "code",
   "execution_count": 113,
   "metadata": {},
   "outputs": [
    {
     "data": {
      "image/png": "[encoded data removed]",
      "text/plain": [
       "<Figure size 432x288 with 1 Axes>"
      ]
     },
     "metadata": {
      "needs_background": "light"
     },
     "output_type": "display_data"
    },
    {
     "name": "stdout",
     "output_type": "stream",
     "text": [
      "5\n"
     ]
    }
   ],
   "source": [
    "digit=test_images[8]\n",
    "import matplotlib.pyplot as plt\n",
    "plt.imshow(digit, cmap=plt.cm.binary)\n",
    "plt.show()\n",
    "print(test_labels[8])"
   ]
  },
  {
   "cell_type": "code",
   "execution_count": 167,
   "metadata": {},
   "outputs": [
    {
     "name": "stdout",
     "output_type": "stream",
     "text": [
      "[[0.75686275 0.74901961 0.7254902  ... 0.78823529 0.78431373 0.80392157]\n",
      " [0.74901961 0.74509804 0.73333333 ... 0.79607843 0.78823529 0.79215686]\n",
      " [0.74509804 0.74117647 0.72941176 ... 0.78039216 0.77647059 0.77254902]\n",
      " ...\n",
      " [0.42745098 0.44313725 0.49411765 ... 0.58039216 0.56862745 0.53333333]\n",
      " [0.46666667 0.45882353 0.4627451  ... 0.56862745 0.56078431 0.5254902 ]\n",
      " [0.54509804 0.52156863 0.48627451 ... 0.56078431 0.56078431 0.54117647]]\n"
     ]
    }
   ],
   "source": [
    "from skimage import io\n",
    "img=io.imread(\"20200219_222254.jpg\",as_gray=True)\n",
    "print(img)"
   ]
  },
  {
   "cell_type": "code",
   "execution_count": 172,
   "metadata": {},
   "outputs": [
    {
     "name": "stdout",
     "output_type": "stream",
     "text": [
      "[[0.75686275 0.74901961 0.7254902  ... 0.78823529 0.78431373 0.80392157]\n",
      " [0.74901961 0.74509804 0.73333333 ... 0.79607843 0.78823529 0.79215686]\n",
      " [0.74509804 0.74117647 0.72941176 ... 0.78039216 0.77647059 0.77254902]\n",
      " ...\n",
      " [0.42745098 0.44313725 0.49411765 ... 0.58039216 0.56862745 0.53333333]\n",
      " [0.46666667 0.45882353 0.4627451  ... 0.56862745 0.56078431 0.5254902 ]\n",
      " [0.54509804 0.52156863 0.48627451 ... 0.56078431 0.56078431 0.54117647]]\n",
      "[0.75686275 0.74901961 0.7254902  0.74509804 0.74509804 0.7372549\n",
      " 0.74117647 0.7372549  0.72156863 0.71764706 0.74117647 0.74509804\n",
      " 0.74509804 0.74117647 0.74117647 0.73333333 0.7254902  0.72156863\n",
      " 0.73333333 0.74117647 0.72156863 0.70980392 0.72156863 0.72941176\n",
      " 0.7254902  0.70980392 0.72941176 0.72156863 0.70980392 0.71764706\n",
      " 0.7254902  0.73333333 0.74117647 0.73333333 0.70980392 0.70980392\n",
      " 0.71372549 0.72941176 0.7254902  0.71372549 0.72941176 0.73333333\n",
      " 0.73333333 0.71764706 0.71764706 0.73333333 0.7254902  0.72941176\n",
      " 0.74901961 0.74117647 0.7254902  0.74509804 0.75686275 0.74117647\n",
      " 0.72941176 0.7254902  0.72941176 0.74117647 0.72941176 0.71372549\n",
      " 0.70196078 0.67843137 0.70980392 0.74509804 0.71372549 0.71764706\n",
      " 0.7254902  0.71372549 0.72156863 0.72941176 0.71764706 0.7254902\n",
      " 0.74117647 0.74117647 0.74509804 0.74901961 0.74117647 0.74901961\n",
      " 0.74901961 0.74901961 0.76862745 0.76470588 0.70588235 0.7254902\n",
      " 0.74117647 0.72941176 0.72156863 0.74117647 0.74901961 0.74509804\n",
      " 0.72156863 0.72156863 0.7372549  0.73333333 0.71764706 0.71372549\n",
      " 0.71764706 0.73333333 0.70588235 0.70980392 0.72156863 0.71372549\n",
      " 0.69411765 0.70196078 0.71372549 0.70980392 0.69803922 0.70196078\n",
      " 0.69411765 0.69803922 0.70588235 0.72156863 0.69803922 0.69411765\n",
      " 0.70980392 0.71372549 0.71372549 0.71764706 0.71372549 0.71764706\n",
      " 0.72941176 0.7254902  0.74509804 0.74509804 0.71372549 0.7254902\n",
      " 0.7372549  0.72156863 0.73333333 0.72941176 0.73333333 0.73333333\n",
      " 0.72941176 0.73333333 0.7254902  0.71372549 0.7254902  0.72941176\n",
      " 0.71372549 0.73333333 0.74509804 0.72941176 0.72156863 0.7372549\n",
      " 0.74901961 0.7372549  0.71764706 0.70588235 0.72156863 0.71764706\n",
      " 0.71372549 0.7372549  0.74117647 0.73333333 0.72941176 0.72941176\n",
      " 0.74117647 0.75294118 0.72941176 0.69803922 0.69803922 0.72156863\n",
      " 0.72156863 0.70588235 0.7254902  0.74901961 0.74117647 0.7372549\n",
      " 0.74117647 0.73333333 0.75294118 0.75294118 0.73333333 0.7372549\n",
      " 0.74901961 0.74509804 0.74509804 0.74901961 0.74509804 0.74117647\n",
      " 0.74901961 0.75294118 0.7372549  0.71764706 0.72156863 0.74117647\n",
      " 0.73333333 0.7372549  0.73333333 0.7254902  0.71764706 0.71372549\n",
      " 0.71764706 0.72941176 0.74117647 0.74117647 0.73333333 0.71764706\n",
      " 0.72941176 0.74117647 0.72941176 0.71764706 0.7372549  0.7372549\n",
      " 0.71372549 0.71764706 0.7372549  0.73333333 0.7372549  0.73333333\n",
      " 0.7254902  0.73333333 0.74117647 0.7372549  0.7254902  0.72941176\n",
      " 0.74509804 0.74901961 0.7254902  0.72156863 0.72156863 0.71764706\n",
      " 0.71372549 0.7254902  0.73333333 0.72156863 0.71372549 0.72941176\n",
      " 0.74117647 0.7372549  0.71372549 0.70588235 0.70980392 0.71764706\n",
      " 0.73333333 0.72941176 0.7254902  0.7372549  0.74901961 0.74117647\n",
      " 0.73333333 0.74117647 0.70980392 0.72156863 0.72941176 0.73333333\n",
      " 0.7372549  0.73333333 0.72156863 0.72156863 0.72941176 0.72941176\n",
      " 0.73333333 0.74901961 0.74509804 0.7254902  0.71764706 0.70588235\n",
      " 0.71372549 0.70588235 0.70588235 0.70196078 0.69803922 0.69411765\n",
      " 0.69019608 0.71372549 0.72156863 0.71764706 0.71372549 0.70980392\n",
      " 0.71372549 0.71372549 0.70980392 0.70980392 0.69411765 0.71372549\n",
      " 0.70196078 0.68235294 0.70196078 0.70980392 0.70588235 0.70980392\n",
      " 0.70588235 0.70588235 0.72156863 0.71764706 0.71372549 0.72941176\n",
      " 0.74117647 0.7372549  0.75294118 0.74901961 0.73333333 0.72941176\n",
      " 0.74117647 0.74509804 0.74901961 0.76862745 0.75294118 0.73333333\n",
      " 0.72941176 0.74117647 0.74509804 0.74509804 0.74117647 0.73333333\n",
      " 0.74509804 0.75686275 0.75686275 0.7254902  0.74117647 0.70980392\n",
      " 0.74117647 0.75294118 0.74901961 0.74509804 0.74117647 0.74509804\n",
      " 0.75294118 0.75686275 0.74901961 0.73333333 0.7372549  0.72941176\n",
      " 0.75294118 0.76078431 0.73333333 0.73333333 0.74901961 0.74117647\n",
      " 0.72941176 0.7254902  0.72156863 0.71764706 0.72156863 0.72941176\n",
      " 0.72941176 0.71764706 0.73333333 0.72156863 0.72156863 0.72156863\n",
      " 0.72941176 0.7372549  0.7372549  0.74117647 0.7372549  0.7254902\n",
      " 0.71764706 0.71764706 0.72941176 0.72941176 0.70980392 0.71372549\n",
      " 0.71372549 0.70980392 0.72156863 0.74117647 0.73333333 0.7254902\n",
      " 0.74117647 0.75294118 0.74901961 0.74901961 0.75294118 0.76078431\n",
      " 0.76470588 0.75294118 0.74117647 0.74901961 0.75294118 0.74509804\n",
      " 0.7372549  0.7372549  0.7372549  0.74901961 0.74509804 0.70196078\n",
      " 0.71764706 0.74117647 0.74117647 0.7254902  0.73333333 0.7372549\n",
      " 0.71372549 0.69019608 0.70588235 0.72941176 0.73333333 0.7372549\n",
      " 0.7372549  0.72156863 0.72941176 0.75294118 0.74509804 0.72156863\n",
      " 0.72941176 0.74509804 0.7372549  0.73333333 0.74117647 0.74117647\n",
      " 0.74117647 0.74509804 0.72941176 0.73333333 0.74901961 0.74901961\n",
      " 0.74509804 0.74117647 0.7254902  0.71764706 0.75294118 0.74901961\n",
      " 0.73333333 0.74901961 0.74117647 0.73333333 0.72941176 0.74901961\n",
      " 0.74509804 0.7254902  0.73333333 0.75294118 0.75686275 0.76470588\n",
      " 0.76470588 0.7372549  0.7372549  0.75294118 0.75294118 0.74901961\n",
      " 0.74901961 0.74901961 0.74509804 0.74509804 0.72156863 0.72941176\n",
      " 0.74117647 0.7372549  0.74509804 0.72156863 0.74509804 0.74901961\n",
      " 0.74901961 0.7372549  0.73333333 0.74509804 0.75294118 0.74117647\n",
      " 0.74901961 0.73333333 0.74117647 0.7372549  0.7254902  0.72941176\n",
      " 0.7372549  0.74509804 0.74509804 0.72941176 0.7254902  0.69803922\n",
      " 0.72941176 0.75294118 0.74509804 0.7372549  0.72156863 0.74509804\n",
      " 0.7372549  0.71764706 0.7254902  0.74509804 0.74509804 0.7372549\n",
      " 0.73333333 0.7372549  0.72941176 0.72156863 0.74117647 0.74509804\n",
      " 0.72941176 0.74117647 0.74509804 0.74117647 0.75294118 0.76078431\n",
      " 0.76078431 0.76078431 0.74509804 0.7372549  0.7372549  0.7372549\n",
      " 0.75294118 0.76470588 0.76078431 0.7372549  0.72156863 0.7372549\n",
      " 0.74901961 0.72941176 0.73333333 0.75686275 0.72941176 0.71764706\n",
      " 0.76470588 0.75686275 0.7254902  0.74117647 0.74509804 0.74117647\n",
      " 0.74509804 0.74117647 0.7372549  0.74509804 0.7254902  0.72156863\n",
      " 0.72941176 0.74117647 0.72941176 0.7254902  0.74509804 0.75294118\n",
      " 0.73333333 0.74901961 0.74509804 0.72156863 0.71764706 0.73333333\n",
      " 0.74117647 0.74117647 0.74509804 0.74901961 0.74509804 0.73333333\n",
      " 0.74509804 0.74901961 0.73333333 0.7372549  0.74901961 0.74509804\n",
      " 0.74117647 0.72941176 0.7372549  0.74117647 0.74117647 0.75294118\n",
      " 0.76078431 0.75686275 0.74117647 0.74509804 0.74117647 0.7372549\n",
      " 0.75294118 0.76862745 0.74509804 0.74901961 0.75686275 0.76470588\n",
      " 0.76078431 0.74901961 0.74117647 0.73333333 0.74117647 0.74509804\n",
      " 0.75686275 0.75686275 0.75294118 0.74901961 0.73333333 0.72941176\n",
      " 0.72941176 0.71372549 0.73333333 0.74509804 0.7372549  0.7254902\n",
      " 0.71764706 0.73333333 0.7254902  0.72941176 0.73333333 0.71372549\n",
      " 0.71764706 0.7372549  0.74117647 0.75686275 0.76470588 0.75294118\n",
      " 0.74509804 0.74117647 0.74117647 0.75294118 0.75686275 0.75294118\n",
      " 0.74901961 0.74509804 0.7372549  0.7254902  0.72156863 0.72156863\n",
      " 0.7254902  0.7372549  0.74901961 0.7372549  0.74901961 0.74901961\n",
      " 0.7372549  0.71764706 0.74117647 0.74509804 0.74509804 0.74117647\n",
      " 0.7254902  0.71764706 0.7254902  0.7372549  0.74117647 0.74509804\n",
      " 0.74117647 0.74901961 0.7372549  0.72156863 0.72156863 0.71764706\n",
      " 0.70980392 0.71372549 0.74901961 0.74117647 0.74901961 0.75294118\n",
      " 0.74509804 0.74509804 0.75294118 0.74509804 0.74117647 0.7372549\n",
      " 0.72156863 0.71764706 0.71764706 0.72156863 0.71764706 0.69803922\n",
      " 0.74901961 0.74901961 0.74509804 0.7254902  0.72156863 0.74509804\n",
      " 0.74509804 0.73333333 0.7254902  0.71764706 0.75294118 0.74901961\n",
      " 0.73333333 0.74901961 0.74901961 0.74901961 0.73333333 0.71764706\n",
      " 0.75294118 0.78431373 0.76862745 0.74901961 0.74901961 0.76470588\n",
      " 0.76470588 0.74117647 0.75686275 0.76078431 0.74509804 0.74901961\n",
      " 0.75686275 0.75294118 0.75686275 0.75686275 0.75686275 0.75294118\n",
      " 0.73333333 0.72156863 0.7254902  0.74117647 0.7372549  0.74901961\n",
      " 0.75686275 0.75686275 0.76078431 0.76470588 0.76078431 0.75294118\n",
      " 0.75294118 0.76078431 0.75686275 0.74901961 0.75686275 0.75294118\n",
      " 0.74117647 0.74509804 0.78039216 0.74117647 0.75294118 0.77647059\n",
      " 0.75686275 0.75294118 0.76470588 0.75294118 0.75686275 0.75294118\n",
      " 0.74509804 0.73333333 0.7372549  0.75294118 0.76078431 0.75294118\n",
      " 0.76470588 0.75294118 0.75686275 0.76470588 0.77647059 0.78039216\n",
      " 0.76470588 0.74509804 0.74509804 0.74901961 0.74509804 0.75686275\n",
      " 0.77254902 0.77647059 0.77254902 0.75294118 0.7254902  0.74509804\n",
      " 0.76078431 0.74901961 0.74509804 0.74117647 0.73333333 0.74117647\n",
      " 0.74117647 0.74117647 0.74117647 0.73333333 0.7254902  0.7372549\n",
      " 0.7372549  0.71764706 0.71764706 0.72941176 0.7254902  0.71764706\n",
      " 0.71764706 0.70980392 0.71372549 0.73333333 0.7372549  0.7254902\n",
      " 0.73333333 0.72941176 0.73333333 0.7254902  0.70980392 0.7372549\n",
      " 0.7372549  0.72156863 0.71764706 0.72941176 0.73333333 0.7254902\n",
      " 0.71764706 0.71764706 0.7372549  0.7254902  0.71764706 0.71372549\n",
      " 0.69803922 0.70196078 0.72156863 0.70980392 0.70588235 0.72156863\n",
      " 0.73333333 0.74509804 0.74509804 0.7372549 ]\n"
     ]
    },
    {
     "data": {
      "image/png": "[encoded data removed]",
      "text/plain": [
       "<Figure size 432x288 with 1 Axes>"
      ]
     },
     "metadata": {
      "needs_background": "light"
     },
     "output_type": "display_data"
    },
    {
     "data": {
      "text/plain": [
       "(1, 784)"
      ]
     },
     "execution_count": 172,
     "metadata": {},
     "output_type": "execute_result"
    }
   ],
   "source": [
    "from skimage import io\n",
    "img=io.imread(\"20200219_222254.jpg\",as_gray=True)\n",
    "print(img)\n",
    "import numpy as np\n",
    "import numpy as np\n",
    "img=np.array(img)\n",
    "img.resize((28*28))\n",
    "print(img)\n",
    "img.dtype\n",
    "img.astype(\"float32\")\n",
    "prediction_images=img.resize(1,28*28)\n",
    "prediction_images=img.astype(\"float32\")/255\n",
    "prediction_images.shape\n",
    "import matplotlib.pyplot as plt\n",
    "plt.imshow(prediction_images, cmap=plt.cm.binary)\n",
    "plt.show()\n",
    "from tensorflow.keras.utils import to_categorical\n",
    "train_labels= to_categorical(prediction_images)\n",
    "prediction_images.shape\n",
    "\n"
   ]
  },
  {
   "cell_type": "code",
   "execution_count": 173,
   "metadata": {},
   "outputs": [
    {
     "data": {
      "text/plain": [
       "(1, 784)"
      ]
     },
     "execution_count": 173,
     "metadata": {},
     "output_type": "execute_result"
    }
   ],
   "source": [
    "prediction_images.shape"
   ]
  },
  {
   "cell_type": "code",
   "execution_count": 174,
   "metadata": {},
   "outputs": [],
   "source": [
    "arr=[0,1,2,3,4,5,6,7,8,9] "
   ]
  },
  {
   "cell_type": "code",
   "execution_count": 175,
   "metadata": {},
   "outputs": [
    {
     "data": {
      "text/plain": [
       "array([[0.00296809, 0.00293733, 0.00284506, 0.00292195, 0.00292195,\n",
       "        0.0028912 , 0.00290657, 0.0028912 , 0.00282968, 0.0028143 ,\n",
       "        0.00290657, 0.00292195, 0.00292195, 0.00290657, 0.00290657,\n",
       "        0.00287582, 0.00284506, 0.00282968, 0.00287582, 0.00290657,\n",
       "        0.00282968, 0.00278354, 0.00282968, 0.00286044, 0.00284506,\n",
       "        0.00278354, 0.00286044, 0.00282968, 0.00278354, 0.0028143 ,\n",
       "        0.00284506, 0.00287582, 0.00290657, 0.00287582, 0.00278354,\n",
       "        0.00278354, 0.00279892, 0.00286044, 0.00284506, 0.00279892,\n",
       "        0.00286044, 0.00287582, 0.00287582, 0.0028143 , 0.0028143 ,\n",
       "        0.00287582, 0.00284506, 0.00286044, 0.00293733, 0.00290657,\n",
       "        0.00284506, 0.00292195, 0.00296809, 0.00290657, 0.00286044,\n",
       "        0.00284506, 0.00286044, 0.00290657, 0.00286044, 0.00279892,\n",
       "        0.00275279, 0.00266052, 0.00278354, 0.00292195, 0.00279892,\n",
       "        0.0028143 , 0.00284506, 0.00279892, 0.00282968, 0.00286044,\n",
       "        0.0028143 , 0.00284506, 0.00290657, 0.00290657, 0.00292195,\n",
       "        0.00293733, 0.00290657, 0.00293733, 0.00293733, 0.00293733,\n",
       "        0.00301423, 0.00299885, 0.00276817, 0.00284506, 0.00290657,\n",
       "        0.00286044, 0.00282968, 0.00290657, 0.00293733, 0.00292195,\n",
       "        0.00282968, 0.00282968, 0.0028912 , 0.00287582, 0.0028143 ,\n",
       "        0.00279892, 0.0028143 , 0.00287582, 0.00276817, 0.00278354,\n",
       "        0.00282968, 0.00279892, 0.00272203, 0.00275279, 0.00279892,\n",
       "        0.00278354, 0.00273741, 0.00275279, 0.00272203, 0.00273741,\n",
       "        0.00276817, 0.00282968, 0.00273741, 0.00272203, 0.00278354,\n",
       "        0.00279892, 0.00279892, 0.0028143 , 0.00279892, 0.0028143 ,\n",
       "        0.00286044, 0.00284506, 0.00292195, 0.00292195, 0.00279892,\n",
       "        0.00284506, 0.0028912 , 0.00282968, 0.00287582, 0.00286044,\n",
       "        0.00287582, 0.00287582, 0.00286044, 0.00287582, 0.00284506,\n",
       "        0.00279892, 0.00284506, 0.00286044, 0.00279892, 0.00287582,\n",
       "        0.00292195, 0.00286044, 0.00282968, 0.0028912 , 0.00293733,\n",
       "        0.0028912 , 0.0028143 , 0.00276817, 0.00282968, 0.0028143 ,\n",
       "        0.00279892, 0.0028912 , 0.00290657, 0.00287582, 0.00286044,\n",
       "        0.00286044, 0.00290657, 0.00295271, 0.00286044, 0.00273741,\n",
       "        0.00273741, 0.00282968, 0.00282968, 0.00276817, 0.00284506,\n",
       "        0.00293733, 0.00290657, 0.0028912 , 0.00290657, 0.00287582,\n",
       "        0.00295271, 0.00295271, 0.00287582, 0.0028912 , 0.00293733,\n",
       "        0.00292195, 0.00292195, 0.00293733, 0.00292195, 0.00290657,\n",
       "        0.00293733, 0.00295271, 0.0028912 , 0.0028143 , 0.00282968,\n",
       "        0.00290657, 0.00287582, 0.0028912 , 0.00287582, 0.00284506,\n",
       "        0.0028143 , 0.00279892, 0.0028143 , 0.00286044, 0.00290657,\n",
       "        0.00290657, 0.00287582, 0.0028143 , 0.00286044, 0.00290657,\n",
       "        0.00286044, 0.0028143 , 0.0028912 , 0.0028912 , 0.00279892,\n",
       "        0.0028143 , 0.0028912 , 0.00287582, 0.0028912 , 0.00287582,\n",
       "        0.00284506, 0.00287582, 0.00290657, 0.0028912 , 0.00284506,\n",
       "        0.00286044, 0.00292195, 0.00293733, 0.00284506, 0.00282968,\n",
       "        0.00282968, 0.0028143 , 0.00279892, 0.00284506, 0.00287582,\n",
       "        0.00282968, 0.00279892, 0.00286044, 0.00290657, 0.0028912 ,\n",
       "        0.00279892, 0.00276817, 0.00278354, 0.0028143 , 0.00287582,\n",
       "        0.00286044, 0.00284506, 0.0028912 , 0.00293733, 0.00290657,\n",
       "        0.00287582, 0.00290657, 0.00278354, 0.00282968, 0.00286044,\n",
       "        0.00287582, 0.0028912 , 0.00287582, 0.00282968, 0.00282968,\n",
       "        0.00286044, 0.00286044, 0.00287582, 0.00293733, 0.00292195,\n",
       "        0.00284506, 0.0028143 , 0.00276817, 0.00279892, 0.00276817,\n",
       "        0.00276817, 0.00275279, 0.00273741, 0.00272203, 0.00270665,\n",
       "        0.00279892, 0.00282968, 0.0028143 , 0.00279892, 0.00278354,\n",
       "        0.00279892, 0.00279892, 0.00278354, 0.00278354, 0.00272203,\n",
       "        0.00279892, 0.00275279, 0.00267589, 0.00275279, 0.00278354,\n",
       "        0.00276817, 0.00278354, 0.00276817, 0.00276817, 0.00282968,\n",
       "        0.0028143 , 0.00279892, 0.00286044, 0.00290657, 0.0028912 ,\n",
       "        0.00295271, 0.00293733, 0.00287582, 0.00286044, 0.00290657,\n",
       "        0.00292195, 0.00293733, 0.00301423, 0.00295271, 0.00287582,\n",
       "        0.00286044, 0.00290657, 0.00292195, 0.00292195, 0.00290657,\n",
       "        0.00287582, 0.00292195, 0.00296809, 0.00296809, 0.00284506,\n",
       "        0.00290657, 0.00278354, 0.00290657, 0.00295271, 0.00293733,\n",
       "        0.00292195, 0.00290657, 0.00292195, 0.00295271, 0.00296809,\n",
       "        0.00293733, 0.00287582, 0.0028912 , 0.00286044, 0.00295271,\n",
       "        0.00298347, 0.00287582, 0.00287582, 0.00293733, 0.00290657,\n",
       "        0.00286044, 0.00284506, 0.00282968, 0.0028143 , 0.00282968,\n",
       "        0.00286044, 0.00286044, 0.0028143 , 0.00287582, 0.00282968,\n",
       "        0.00282968, 0.00282968, 0.00286044, 0.0028912 , 0.0028912 ,\n",
       "        0.00290657, 0.0028912 , 0.00284506, 0.0028143 , 0.0028143 ,\n",
       "        0.00286044, 0.00286044, 0.00278354, 0.00279892, 0.00279892,\n",
       "        0.00278354, 0.00282968, 0.00290657, 0.00287582, 0.00284506,\n",
       "        0.00290657, 0.00295271, 0.00293733, 0.00293733, 0.00295271,\n",
       "        0.00298347, 0.00299885, 0.00295271, 0.00290657, 0.00293733,\n",
       "        0.00295271, 0.00292195, 0.0028912 , 0.0028912 , 0.0028912 ,\n",
       "        0.00293733, 0.00292195, 0.00275279, 0.0028143 , 0.00290657,\n",
       "        0.00290657, 0.00284506, 0.00287582, 0.0028912 , 0.00279892,\n",
       "        0.00270665, 0.00276817, 0.00286044, 0.00287582, 0.0028912 ,\n",
       "        0.0028912 , 0.00282968, 0.00286044, 0.00295271, 0.00292195,\n",
       "        0.00282968, 0.00286044, 0.00292195, 0.0028912 , 0.00287582,\n",
       "        0.00290657, 0.00290657, 0.00290657, 0.00292195, 0.00286044,\n",
       "        0.00287582, 0.00293733, 0.00293733, 0.00292195, 0.00290657,\n",
       "        0.00284506, 0.0028143 , 0.00295271, 0.00293733, 0.00287582,\n",
       "        0.00293733, 0.00290657, 0.00287582, 0.00286044, 0.00293733,\n",
       "        0.00292195, 0.00284506, 0.00287582, 0.00295271, 0.00296809,\n",
       "        0.00299885, 0.00299885, 0.0028912 , 0.0028912 , 0.00295271,\n",
       "        0.00295271, 0.00293733, 0.00293733, 0.00293733, 0.00292195,\n",
       "        0.00292195, 0.00282968, 0.00286044, 0.00290657, 0.0028912 ,\n",
       "        0.00292195, 0.00282968, 0.00292195, 0.00293733, 0.00293733,\n",
       "        0.0028912 , 0.00287582, 0.00292195, 0.00295271, 0.00290657,\n",
       "        0.00293733, 0.00287582, 0.00290657, 0.0028912 , 0.00284506,\n",
       "        0.00286044, 0.0028912 , 0.00292195, 0.00292195, 0.00286044,\n",
       "        0.00284506, 0.00273741, 0.00286044, 0.00295271, 0.00292195,\n",
       "        0.0028912 , 0.00282968, 0.00292195, 0.0028912 , 0.0028143 ,\n",
       "        0.00284506, 0.00292195, 0.00292195, 0.0028912 , 0.00287582,\n",
       "        0.0028912 , 0.00286044, 0.00282968, 0.00290657, 0.00292195,\n",
       "        0.00286044, 0.00290657, 0.00292195, 0.00290657, 0.00295271,\n",
       "        0.00298347, 0.00298347, 0.00298347, 0.00292195, 0.0028912 ,\n",
       "        0.0028912 , 0.0028912 , 0.00295271, 0.00299885, 0.00298347,\n",
       "        0.0028912 , 0.00282968, 0.0028912 , 0.00293733, 0.00286044,\n",
       "        0.00287582, 0.00296809, 0.00286044, 0.0028143 , 0.00299885,\n",
       "        0.00296809, 0.00284506, 0.00290657, 0.00292195, 0.00290657,\n",
       "        0.00292195, 0.00290657, 0.0028912 , 0.00292195, 0.00284506,\n",
       "        0.00282968, 0.00286044, 0.00290657, 0.00286044, 0.00284506,\n",
       "        0.00292195, 0.00295271, 0.00287582, 0.00293733, 0.00292195,\n",
       "        0.00282968, 0.0028143 , 0.00287582, 0.00290657, 0.00290657,\n",
       "        0.00292195, 0.00293733, 0.00292195, 0.00287582, 0.00292195,\n",
       "        0.00293733, 0.00287582, 0.0028912 , 0.00293733, 0.00292195,\n",
       "        0.00290657, 0.00286044, 0.0028912 , 0.00290657, 0.00290657,\n",
       "        0.00295271, 0.00298347, 0.00296809, 0.00290657, 0.00292195,\n",
       "        0.00290657, 0.0028912 , 0.00295271, 0.00301423, 0.00292195,\n",
       "        0.00293733, 0.00296809, 0.00299885, 0.00298347, 0.00293733,\n",
       "        0.00290657, 0.00287582, 0.00290657, 0.00292195, 0.00296809,\n",
       "        0.00296809, 0.00295271, 0.00293733, 0.00287582, 0.00286044,\n",
       "        0.00286044, 0.00279892, 0.00287582, 0.00292195, 0.0028912 ,\n",
       "        0.00284506, 0.0028143 , 0.00287582, 0.00284506, 0.00286044,\n",
       "        0.00287582, 0.00279892, 0.0028143 , 0.0028912 , 0.00290657,\n",
       "        0.00296809, 0.00299885, 0.00295271, 0.00292195, 0.00290657,\n",
       "        0.00290657, 0.00295271, 0.00296809, 0.00295271, 0.00293733,\n",
       "        0.00292195, 0.0028912 , 0.00284506, 0.00282968, 0.00282968,\n",
       "        0.00284506, 0.0028912 , 0.00293733, 0.0028912 , 0.00293733,\n",
       "        0.00293733, 0.0028912 , 0.0028143 , 0.00290657, 0.00292195,\n",
       "        0.00292195, 0.00290657, 0.00284506, 0.0028143 , 0.00284506,\n",
       "        0.0028912 , 0.00290657, 0.00292195, 0.00290657, 0.00293733,\n",
       "        0.0028912 , 0.00282968, 0.00282968, 0.0028143 , 0.00278354,\n",
       "        0.00279892, 0.00293733, 0.00290657, 0.00293733, 0.00295271,\n",
       "        0.00292195, 0.00292195, 0.00295271, 0.00292195, 0.00290657,\n",
       "        0.0028912 , 0.00282968, 0.0028143 , 0.0028143 , 0.00282968,\n",
       "        0.0028143 , 0.00273741, 0.00293733, 0.00293733, 0.00292195,\n",
       "        0.00284506, 0.00282968, 0.00292195, 0.00292195, 0.00287582,\n",
       "        0.00284506, 0.0028143 , 0.00295271, 0.00293733, 0.00287582,\n",
       "        0.00293733, 0.00293733, 0.00293733, 0.00287582, 0.0028143 ,\n",
       "        0.00295271, 0.00307574, 0.00301423, 0.00293733, 0.00293733,\n",
       "        0.00299885, 0.00299885, 0.00290657, 0.00296809, 0.00298347,\n",
       "        0.00292195, 0.00293733, 0.00296809, 0.00295271, 0.00296809,\n",
       "        0.00296809, 0.00296809, 0.00295271, 0.00287582, 0.00282968,\n",
       "        0.00284506, 0.00290657, 0.0028912 , 0.00293733, 0.00296809,\n",
       "        0.00296809, 0.00298347, 0.00299885, 0.00298347, 0.00295271,\n",
       "        0.00295271, 0.00298347, 0.00296809, 0.00293733, 0.00296809,\n",
       "        0.00295271, 0.00290657, 0.00292195, 0.00306036, 0.00290657,\n",
       "        0.00295271, 0.00304498, 0.00296809, 0.00295271, 0.00299885,\n",
       "        0.00295271, 0.00296809, 0.00295271, 0.00292195, 0.00287582,\n",
       "        0.0028912 , 0.00295271, 0.00298347, 0.00295271, 0.00299885,\n",
       "        0.00295271, 0.00296809, 0.00299885, 0.00304498, 0.00306036,\n",
       "        0.00299885, 0.00292195, 0.00292195, 0.00293733, 0.00292195,\n",
       "        0.00296809, 0.0030296 , 0.00304498, 0.0030296 , 0.00295271,\n",
       "        0.00284506, 0.00292195, 0.00298347, 0.00293733, 0.00292195,\n",
       "        0.00290657, 0.00287582, 0.00290657, 0.00290657, 0.00290657,\n",
       "        0.00290657, 0.00287582, 0.00284506, 0.0028912 , 0.0028912 ,\n",
       "        0.0028143 , 0.0028143 , 0.00286044, 0.00284506, 0.0028143 ,\n",
       "        0.0028143 , 0.00278354, 0.00279892, 0.00287582, 0.0028912 ,\n",
       "        0.00284506, 0.00287582, 0.00286044, 0.00287582, 0.00284506,\n",
       "        0.00278354, 0.0028912 , 0.0028912 , 0.00282968, 0.0028143 ,\n",
       "        0.00286044, 0.00287582, 0.00284506, 0.0028143 , 0.0028143 ,\n",
       "        0.0028912 , 0.00284506, 0.0028143 , 0.00279892, 0.00273741,\n",
       "        0.00275279, 0.00282968, 0.00278354, 0.00276817, 0.00282968,\n",
       "        0.00287582, 0.00292195, 0.00292195, 0.0028912 ]], dtype=float32)"
      ]
     },
     "execution_count": 175,
     "metadata": {},
     "output_type": "execute_result"
    }
   ],
   "source": [
    "prediction_images"
   ]
  },
  {
   "cell_type": "code",
   "execution_count": 180,
   "metadata": {},
   "outputs": [
    {
     "ename": "TypeError",
     "evalue": "only integer scalar arrays can be converted to a scalar index",
     "output_type": "error",
     "traceback": [
      "\u001b[1;31m---------------------------------------------------------------------------\u001b[0m",
      "\u001b[1;31mTypeError\u001b[0m                                 Traceback (most recent call last)",
      "\u001b[1;32m<ipython-input-180-7222effcfce4>\u001b[0m in \u001b[0;36m<module>\u001b[1;34m\u001b[0m\n\u001b[0;32m      1\u001b[0m \u001b[0mimg1\u001b[0m\u001b[1;33m=\u001b[0m\u001b[0mimg\u001b[0m\u001b[1;33m.\u001b[0m\u001b[0margmax\u001b[0m\u001b[1;33m(\u001b[0m\u001b[1;33m)\u001b[0m\u001b[1;33m\u001b[0m\u001b[1;33m\u001b[0m\u001b[0m\n\u001b[0;32m      2\u001b[0m \u001b[0marr\u001b[0m\u001b[1;33m=\u001b[0m\u001b[1;33m[\u001b[0m\u001b[1;36m0\u001b[0m\u001b[1;33m,\u001b[0m\u001b[1;36m1\u001b[0m\u001b[1;33m,\u001b[0m\u001b[1;36m2\u001b[0m\u001b[1;33m,\u001b[0m\u001b[1;36m3\u001b[0m\u001b[1;33m,\u001b[0m\u001b[1;36m4\u001b[0m\u001b[1;33m,\u001b[0m\u001b[1;36m5\u001b[0m\u001b[1;33m,\u001b[0m\u001b[1;36m6\u001b[0m\u001b[1;33m,\u001b[0m\u001b[1;36m7\u001b[0m\u001b[1;33m,\u001b[0m\u001b[1;36m8\u001b[0m\u001b[1;33m,\u001b[0m\u001b[1;36m9\u001b[0m\u001b[1;33m]\u001b[0m\u001b[1;33m\u001b[0m\u001b[1;33m\u001b[0m\u001b[0m\n\u001b[1;32m----> 3\u001b[1;33m \u001b[0mprint\u001b[0m\u001b[1;33m(\u001b[0m\u001b[1;34m\"network prediction: \"\u001b[0m\u001b[1;33m,\u001b[0m\u001b[0marr\u001b[0m\u001b[1;33m[\u001b[0m\u001b[0mimg\u001b[0m\u001b[1;33m]\u001b[0m\u001b[1;33m)\u001b[0m\u001b[1;33m\u001b[0m\u001b[1;33m\u001b[0m\u001b[0m\n\u001b[0m",
      "\u001b[1;31mTypeError\u001b[0m: only integer scalar arrays can be converted to a scalar index"
     ]
    }
   ],
   "source": [
    "img1=img.argmax()\n",
    "arr=[0,1,2,3,4,5,6,7,8,9]\n",
    "print(\"network prediction: \",arr[img])"
   ]
  },
  {
   "cell_type": "code",
   "execution_count": 177,
   "metadata": {},
   "outputs": [
    {
     "ename": "NameError",
     "evalue": "name 'pre' is not defined",
     "output_type": "error",
     "traceback": [
      "\u001b[1;31m---------------------------------------------------------------------------\u001b[0m",
      "\u001b[1;31mNameError\u001b[0m                                 Traceback (most recent call last)",
      "\u001b[1;32m<ipython-input-177-951f0f2ecf76>\u001b[0m in \u001b[0;36m<module>\u001b[1;34m\u001b[0m\n\u001b[1;32m----> 1\u001b[1;33m \u001b[0my\u001b[0m\u001b[1;33m=\u001b[0m\u001b[0mpre\u001b[0m\u001b[1;33m.\u001b[0m\u001b[0margmax\u001b[0m\u001b[1;33m(\u001b[0m\u001b[1;33m)\u001b[0m\u001b[1;33m\u001b[0m\u001b[1;33m\u001b[0m\u001b[0m\n\u001b[0m\u001b[0;32m      2\u001b[0m \u001b[0marr\u001b[0m\u001b[1;33m=\u001b[0m\u001b[1;33m[\u001b[0m\u001b[1;36m0\u001b[0m\u001b[1;33m,\u001b[0m\u001b[1;36m1\u001b[0m\u001b[1;33m,\u001b[0m\u001b[1;36m2\u001b[0m\u001b[1;33m,\u001b[0m\u001b[1;36m3\u001b[0m\u001b[1;33m,\u001b[0m\u001b[1;36m4\u001b[0m\u001b[1;33m,\u001b[0m\u001b[1;36m5\u001b[0m\u001b[1;33m,\u001b[0m\u001b[1;36m6\u001b[0m\u001b[1;33m,\u001b[0m\u001b[1;36m7\u001b[0m\u001b[1;33m,\u001b[0m\u001b[1;36m8\u001b[0m\u001b[1;33m,\u001b[0m\u001b[1;36m9\u001b[0m\u001b[1;33m]\u001b[0m\u001b[1;33m\u001b[0m\u001b[1;33m\u001b[0m\u001b[0m\n\u001b[0;32m      3\u001b[0m \u001b[0mprint\u001b[0m\u001b[1;33m(\u001b[0m\u001b[1;34m\"network prediction: \"\u001b[0m\u001b[1;33m,\u001b[0m\u001b[0mimg\u001b[0m\u001b[1;33m[\u001b[0m\u001b[0my\u001b[0m\u001b[1;33m]\u001b[0m\u001b[1;33m)\u001b[0m\u001b[1;33m\u001b[0m\u001b[1;33m\u001b[0m\u001b[0m\n",
      "\u001b[1;31mNameError\u001b[0m: name 'pre' is not defined"
     ]
    }
   ],
   "source": [
    "y=pre.argmax()\n",
    "arr=[0,1,2,3,4,5,6,7,8,9] \n",
    "print(\"network prediction: \",img[y])"
   ]
  },
  {
   "cell_type": "code",
   "execution_count": null,
   "metadata": {},
   "outputs": [],
   "source": []
  }
 ],
 "metadata": {
  "kernelspec": {
   "display_name": "Python 3",
   "language": "python",
   "name": "python3"
  },
  "language_info": {
   "codemirror_mode": {
    "name": "ipython",
    "version": 3
   },
   "file_extension": ".py",
   "mimetype": "text/x-python",
   "name": "python",
   "nbconvert_exporter": "python",
   "pygments_lexer": "ipython3",
   "version": "3.7.4"
  }
 },
 "nbformat": 4,
 "nbformat_minor": 2
}
